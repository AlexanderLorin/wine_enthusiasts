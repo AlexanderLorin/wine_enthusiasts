{
 "cells": [
  {
   "cell_type": "code",
   "execution_count": null,
   "metadata": {},
   "outputs": [],
   "source": [
    "import tensorflow as tf\n",
    "from tensorflow import keras\n",
    "from werkzeug.utils import secure_filename\n",
    "from gevent.pywsgi import WSGIServer\n",
    "# from keras.models import load_model\n",
    "#from flask import Flask, redirect, url_for, request, render_template, Response, jsonify, redirect\n",
    "from tensorflow.keras.applications.imagenet_utils import preprocess_input, decode_predictions\n",
    "from tensorflow.keras.models import Sequential\n",
    "from tensorflow.keras.models import Model\n",
    "from tensorflow.keras.models import load_model\n",
    "import numpy as np"
   ]
  },
  {
   "cell_type": "code",
   "execution_count": null,
   "metadata": {},
   "outputs": [],
   "source": [
    "def submit():\n",
    "    \treturn(\"Working!\")\n",
    "\t# HTML to Python file\n",
    "\tif request.method == \"POST\":\n",
    "\t\tacidity = float(request.form.get(\"fixed acidity\"))\n",
    "\t\tvolacidity = float(request.form.get(\"volatile acidity\"))\n",
    "\t\tcitric = float(request.form.get(\"citric acid\"))\n",
    "\t\tres_sugar = float(request.form.get(\"residual sugar\"))\n",
    "\t\tchlorides = float(request.form.get(\"chlorides\"))\n",
    "\t\tso2 = float(request.form.get(\"free sulfure dioxide\"))\n",
    "\t\ttso2 = float(request.form.get(\"total sulfur dioxide\"))\n",
    "\t\tdensity = float(request.form.get(\"density\"))\n",
    "\t\tpH = float(request.form.get(\"pH\"))\n",
    "\t\tsulphates = float(request.form.get(\"sulphates\"))\n",
    "\t\talcohol = float(request.form.get(\"alcohol\"))\n",
    "\n",
    "\t\t# call preprocessDataAndPredict and pass inputs\n",
    "\t\ttry:\n",
    "\t\t\t# prediction = preprocessDataAndPredict(acidity, volacidity, citric, res_sugar, chlorides, so2,tso2,density, pH,sulphates,alcohol)\n",
    "\t\t\t# ----\n",
    "\n",
    "\t\t\t# keep all inputs in array\n",
    "\t\t\ttest_data = [acidity, volacidity, citric, res_sugar,\n",
    "\t\t\t\tchlorides, so2, tso2, density, pH, sulphates, alcohol]\n",
    "\t\t\tprint(test_data)\n",
    "\n",
    "\t# convert value data into numpy array\n",
    "\t\t\ttest_data = np.array(test_data)\n",
    "\n",
    "\t# reshape array\n",
    "\t\t\ttest_data = test_data.reshape(1, -1)\n",
    "\t\t\tprint(test_data)\n",
    "\n",
    "\t# #load trained model\n",
    "\n",
    "\t\t\tmodel = load_model('Wine_Enthusiast_Optimization_r.h5')\n",
    "\t\t\tprint(\"Model Loaded\")\n",
    "\t\t\ttest_data = preprocess_input(test_data, mode='tf')\n",
    "\t# predict\n",
    "\n",
    "\t\t\tprediction = model.predict(test_data)\n",
    "\t\t\tprint(f\"Prediction Value: {prediction}\")\n"
   ]
  }
 ],
 "metadata": {
  "language_info": {
   "name": "python"
  },
  "orig_nbformat": 4
 },
 "nbformat": 4,
 "nbformat_minor": 2
}
